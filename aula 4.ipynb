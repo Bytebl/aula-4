{
 "cells": [
  {
   "cell_type": "code",
   "execution_count": 2,
   "metadata": {},
   "outputs": [
    {
     "name": "stdout",
     "output_type": "stream",
     "text": [
      "o valor digitado foi: 18\n"
     ]
    }
   ],
   "source": [
    "valor1 = input('digite um numero inteir')\n",
    "\n",
    "print (\"o valor digitado foi:\", valor1)"
   ]
  },
  {
   "cell_type": "code",
   "execution_count": 20,
   "metadata": {},
   "outputs": [
    {
     "name": "stdout",
     "output_type": "stream",
     "text": [
      "A soma dos valors é: 100\n"
     ]
    }
   ],
   "source": [
    "valor1 = int (input(\"digite um numero\"))\n",
    "\n",
    "valor2 =int (input(\"digite outro numero\"))\n",
    "\n",
    "resultado = valor1 + valor2\n",
    "\n",
    "print(\"A soma dos valors é:\", resultado)"
   ]
  },
  {
   "cell_type": "code",
   "execution_count": 21,
   "metadata": {},
   "outputs": [
    {
     "name": "stdout",
     "output_type": "stream",
     "text": [
      "A media dos valores é: 887\n"
     ]
    }
   ],
   "source": [
    "valor1= int (input(\"digite um numero\"))\n",
    "\n",
    "valor2= int (input(\"digite um numero\"))\n",
    "\n",
    "valor3= int(input(\"digite um numero\"))\n",
    "\n",
    "media= valor1+valor2+valor3\n",
    "\n",
    "media / 3\n",
    "\n",
    "print(\"A media dos valores é:\", media)"
   ]
  },
  {
   "cell_type": "code",
   "execution_count": 23,
   "metadata": {},
   "outputs": [
    {
     "name": "stdout",
     "output_type": "stream",
     "text": [
      "o salario e: 6888000.0\n"
     ]
    }
   ],
   "source": [
    "#quanto ganha por hora trabalhada \n",
    "salarioH = float (input(\"quantas horas voce trabalhou por mes?\")) \n",
    "#quantas horas trabalha\n",
    "salarioQTD = float(input(\"quantas horas voce trabalhou por mes?\"))\n",
    "#salario mensal\n",
    "salario = salarioH * salarioQTD\n",
    "#salario mensal texto\n",
    "print(\"o salario e:\", salario)"
   ]
  },
  {
   "cell_type": "code",
   "execution_count": 24,
   "metadata": {},
   "outputs": [
    {
     "name": "stdout",
     "output_type": "stream",
     "text": [
      "voce não ´pagara multa\n"
     ]
    }
   ],
   "source": [
    "pesopeixe = float(input(\"quantos quilos de peixe voce pescou?\"));\n",
    "\n",
    "valormulta= 4\n",
    "\n",
    "if pesopeixe >50:print (\"voce pagara uma multa de:\"), (valormulta * (pesopeixe -50))\n",
    "\n",
    "else:print(\"voce não ´pagara multa\");"
   ]
  }
 ],
 "metadata": {
  "kernelspec": {
   "display_name": "Python 3",
   "language": "python",
   "name": "python3"
  },
  "language_info": {
   "codemirror_mode": {
    "name": "ipython",
    "version": 3
   },
   "file_extension": ".py",
   "mimetype": "text/x-python",
   "name": "python",
   "nbconvert_exporter": "python",
   "pygments_lexer": "ipython3",
   "version": "3.10.8"
  }
 },
 "nbformat": 4,
 "nbformat_minor": 2
}
